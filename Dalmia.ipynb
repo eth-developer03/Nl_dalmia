{
 "cells": [
  {
   "cell_type": "code",
   "execution_count": 1,
   "id": "228d1800",
   "metadata": {},
   "outputs": [],
   "source": [
    "import numpy as np \n",
    "import pandas as pd"
   ]
  },
  {
   "cell_type": "code",
   "execution_count": 2,
   "id": "d164cf52",
   "metadata": {},
   "outputs": [],
   "source": [
    "route_data = pd.read_csv(\"known_route_repo.csv\")"
   ]
  },
  {
   "cell_type": "code",
   "execution_count": 3,
   "id": "877446cd",
   "metadata": {},
   "outputs": [
    {
     "data": {
      "text/html": [
       "<div>\n",
       "<style scoped>\n",
       "    .dataframe tbody tr th:only-of-type {\n",
       "        vertical-align: middle;\n",
       "    }\n",
       "\n",
       "    .dataframe tbody tr th {\n",
       "        vertical-align: top;\n",
       "    }\n",
       "\n",
       "    .dataframe thead th {\n",
       "        text-align: right;\n",
       "    }\n",
       "</style>\n",
       "<table border=\"1\" class=\"dataframe\">\n",
       "  <thead>\n",
       "    <tr style=\"text-align: right;\">\n",
       "      <th></th>\n",
       "      <th>Route_ID</th>\n",
       "      <th>timestamp</th>\n",
       "      <th>latitude</th>\n",
       "      <th>longitude</th>\n",
       "    </tr>\n",
       "  </thead>\n",
       "  <tbody>\n",
       "    <tr>\n",
       "      <th>0</th>\n",
       "      <td>0_Austin_Los Angeles</td>\n",
       "      <td>2024-07-09 04:27:31.270921</td>\n",
       "      <td>30.267115</td>\n",
       "      <td>-97.743072</td>\n",
       "    </tr>\n",
       "    <tr>\n",
       "      <th>1</th>\n",
       "      <td>0_Austin_Los Angeles</td>\n",
       "      <td>2024-07-09 04:37:35.836141</td>\n",
       "      <td>30.274387</td>\n",
       "      <td>-97.761541</td>\n",
       "    </tr>\n",
       "    <tr>\n",
       "      <th>2</th>\n",
       "      <td>0_Austin_Los Angeles</td>\n",
       "      <td>2024-07-09 04:47:40.401361</td>\n",
       "      <td>30.264452</td>\n",
       "      <td>-97.786738</td>\n",
       "    </tr>\n",
       "    <tr>\n",
       "      <th>3</th>\n",
       "      <td>0_Austin_Los Angeles</td>\n",
       "      <td>2024-07-09 04:57:44.966581</td>\n",
       "      <td>30.236759</td>\n",
       "      <td>-97.840425</td>\n",
       "    </tr>\n",
       "    <tr>\n",
       "      <th>4</th>\n",
       "      <td>0_Austin_Los Angeles</td>\n",
       "      <td>2024-07-09 05:07:49.531801</td>\n",
       "      <td>30.232651</td>\n",
       "      <td>-97.876297</td>\n",
       "    </tr>\n",
       "  </tbody>\n",
       "</table>\n",
       "</div>"
      ],
      "text/plain": [
       "               Route_ID                   timestamp   latitude  longitude\n",
       "0  0_Austin_Los Angeles  2024-07-09 04:27:31.270921  30.267115 -97.743072\n",
       "1  0_Austin_Los Angeles  2024-07-09 04:37:35.836141  30.274387 -97.761541\n",
       "2  0_Austin_Los Angeles  2024-07-09 04:47:40.401361  30.264452 -97.786738\n",
       "3  0_Austin_Los Angeles  2024-07-09 04:57:44.966581  30.236759 -97.840425\n",
       "4  0_Austin_Los Angeles  2024-07-09 05:07:49.531801  30.232651 -97.876297"
      ]
     },
     "execution_count": 3,
     "metadata": {},
     "output_type": "execute_result"
    }
   ],
   "source": [
    "route_data.head()"
   ]
  },
  {
   "cell_type": "code",
   "execution_count": 9,
   "id": "9a5d1a5d",
   "metadata": {},
   "outputs": [
    {
     "data": {
      "text/plain": [
       "24"
      ]
     },
     "execution_count": 9,
     "metadata": {},
     "output_type": "execute_result"
    }
   ],
   "source": [
    "route_data[\"Route_ID\"].nunique()"
   ]
  },
  {
   "cell_type": "code",
   "execution_count": 12,
   "id": "06d23226",
   "metadata": {},
   "outputs": [
    {
     "data": {
      "text/plain": [
       "array(['0_Austin_Los Angeles', '1_Austin_Los Angeles', '0_Austin_Houston',\n",
       "       '1_Austin_Houston', '0_Austin_Philadelphia',\n",
       "       '1_Austin_Philadelphia', '0_Austin_San Diego',\n",
       "       '1_Austin_San Diego', '0_Austin_San Jose', '1_Austin_San Jose',\n",
       "       '0_Austin_Jacksonville', '1_Austin_Jacksonville',\n",
       "       '0_Chicago_Columbus', '1_Chicago_Columbus', '0_Chicago_Charlotte',\n",
       "       '1_Chicago_Charlotte', '0_Chicago_Seattle', '1_Chicago_Seattle',\n",
       "       '0_Chicago_Washington, D.C.', '1_Chicago_Washington, D.C.',\n",
       "       '0_New York City_Seattle', '1_New York City_Seattle',\n",
       "       '0_Portland_Atlanta', '1_Portland_Atlanta'], dtype=object)"
      ]
     },
     "execution_count": 12,
     "metadata": {},
     "output_type": "execute_result"
    }
   ],
   "source": [
    "route_data[\"Route_ID\"].unique()"
   ]
  },
  {
   "cell_type": "code",
   "execution_count": 21,
   "id": "8961293b",
   "metadata": {},
   "outputs": [
    {
     "data": {
      "text/plain": [
       "0    2024-07-09 04:27:31.270921\n",
       "1    2024-07-09 04:37:35.836141\n",
       "2    2024-07-09 04:47:40.401361\n",
       "3    2024-07-09 04:57:44.966581\n",
       "4    2024-07-09 05:07:49.531801\n",
       "Name: timestamp, dtype: object"
      ]
     },
     "execution_count": 21,
     "metadata": {},
     "output_type": "execute_result"
    }
   ],
   "source": [
    "route_data[\"timestamp\"].head()"
   ]
  },
  {
   "cell_type": "code",
   "execution_count": 25,
   "id": "4f100128",
   "metadata": {},
   "outputs": [],
   "source": [
    "# Splitting 'Timestamp' into 'Date' and 'Time'\n",
    "route_data['Date'] = pd.to_datetime(route_data['timestamp']).dt.date\n",
    "route_data['Time'] = pd.to_datetime(route_data['timestamp']).dt.strftime('%H:%M:%S')"
   ]
  },
  {
   "cell_type": "code",
   "execution_count": 26,
   "id": "4e046835",
   "metadata": {},
   "outputs": [],
   "source": [
    "\n",
    "route_data[['Route_Type', 'Start_Location', 'Goal_Location']] = route_data['Route_ID'].str.split('_', n=2, expand=True)\n",
    "\n",
    "\n",
    "\n",
    "#tools.display_dataframe_to_user(name=\"Route Data\", dataframe=route_data)"
   ]
  },
  {
   "cell_type": "code",
   "execution_count": 27,
   "id": "599498a3",
   "metadata": {},
   "outputs": [
    {
     "data": {
      "text/html": [
       "<div>\n",
       "<style scoped>\n",
       "    .dataframe tbody tr th:only-of-type {\n",
       "        vertical-align: middle;\n",
       "    }\n",
       "\n",
       "    .dataframe tbody tr th {\n",
       "        vertical-align: top;\n",
       "    }\n",
       "\n",
       "    .dataframe thead th {\n",
       "        text-align: right;\n",
       "    }\n",
       "</style>\n",
       "<table border=\"1\" class=\"dataframe\">\n",
       "  <thead>\n",
       "    <tr style=\"text-align: right;\">\n",
       "      <th></th>\n",
       "      <th>Route_ID</th>\n",
       "      <th>timestamp</th>\n",
       "      <th>latitude</th>\n",
       "      <th>longitude</th>\n",
       "      <th>Route_Type</th>\n",
       "      <th>Start_Location</th>\n",
       "      <th>Goal_Location</th>\n",
       "      <th>Date</th>\n",
       "      <th>Time</th>\n",
       "    </tr>\n",
       "  </thead>\n",
       "  <tbody>\n",
       "    <tr>\n",
       "      <th>0</th>\n",
       "      <td>0_Austin_Los Angeles</td>\n",
       "      <td>2024-07-09 04:27:31.270921</td>\n",
       "      <td>30.267115</td>\n",
       "      <td>-97.743072</td>\n",
       "      <td>0</td>\n",
       "      <td>Austin</td>\n",
       "      <td>Los Angeles</td>\n",
       "      <td>2024-07-09</td>\n",
       "      <td>04:27:31</td>\n",
       "    </tr>\n",
       "    <tr>\n",
       "      <th>1</th>\n",
       "      <td>0_Austin_Los Angeles</td>\n",
       "      <td>2024-07-09 04:37:35.836141</td>\n",
       "      <td>30.274387</td>\n",
       "      <td>-97.761541</td>\n",
       "      <td>0</td>\n",
       "      <td>Austin</td>\n",
       "      <td>Los Angeles</td>\n",
       "      <td>2024-07-09</td>\n",
       "      <td>04:37:35</td>\n",
       "    </tr>\n",
       "    <tr>\n",
       "      <th>2</th>\n",
       "      <td>0_Austin_Los Angeles</td>\n",
       "      <td>2024-07-09 04:47:40.401361</td>\n",
       "      <td>30.264452</td>\n",
       "      <td>-97.786738</td>\n",
       "      <td>0</td>\n",
       "      <td>Austin</td>\n",
       "      <td>Los Angeles</td>\n",
       "      <td>2024-07-09</td>\n",
       "      <td>04:47:40</td>\n",
       "    </tr>\n",
       "    <tr>\n",
       "      <th>3</th>\n",
       "      <td>0_Austin_Los Angeles</td>\n",
       "      <td>2024-07-09 04:57:44.966581</td>\n",
       "      <td>30.236759</td>\n",
       "      <td>-97.840425</td>\n",
       "      <td>0</td>\n",
       "      <td>Austin</td>\n",
       "      <td>Los Angeles</td>\n",
       "      <td>2024-07-09</td>\n",
       "      <td>04:57:44</td>\n",
       "    </tr>\n",
       "    <tr>\n",
       "      <th>4</th>\n",
       "      <td>0_Austin_Los Angeles</td>\n",
       "      <td>2024-07-09 05:07:49.531801</td>\n",
       "      <td>30.232651</td>\n",
       "      <td>-97.876297</td>\n",
       "      <td>0</td>\n",
       "      <td>Austin</td>\n",
       "      <td>Los Angeles</td>\n",
       "      <td>2024-07-09</td>\n",
       "      <td>05:07:49</td>\n",
       "    </tr>\n",
       "  </tbody>\n",
       "</table>\n",
       "</div>"
      ],
      "text/plain": [
       "               Route_ID                   timestamp   latitude  longitude  \\\n",
       "0  0_Austin_Los Angeles  2024-07-09 04:27:31.270921  30.267115 -97.743072   \n",
       "1  0_Austin_Los Angeles  2024-07-09 04:37:35.836141  30.274387 -97.761541   \n",
       "2  0_Austin_Los Angeles  2024-07-09 04:47:40.401361  30.264452 -97.786738   \n",
       "3  0_Austin_Los Angeles  2024-07-09 04:57:44.966581  30.236759 -97.840425   \n",
       "4  0_Austin_Los Angeles  2024-07-09 05:07:49.531801  30.232651 -97.876297   \n",
       "\n",
       "  Route_Type Start_Location Goal_Location        Date      Time  \n",
       "0          0         Austin   Los Angeles  2024-07-09  04:27:31  \n",
       "1          0         Austin   Los Angeles  2024-07-09  04:37:35  \n",
       "2          0         Austin   Los Angeles  2024-07-09  04:47:40  \n",
       "3          0         Austin   Los Angeles  2024-07-09  04:57:44  \n",
       "4          0         Austin   Los Angeles  2024-07-09  05:07:49  "
      ]
     },
     "execution_count": 27,
     "metadata": {},
     "output_type": "execute_result"
    }
   ],
   "source": [
    "route_data.head()"
   ]
  },
  {
   "cell_type": "code",
   "execution_count": 11,
   "id": "e5751c88",
   "metadata": {},
   "outputs": [
    {
     "data": {
      "text/plain": [
       "3365"
      ]
     },
     "execution_count": 11,
     "metadata": {},
     "output_type": "execute_result"
    }
   ],
   "source": [
    "route_data[\"timestamp\"].nunique()"
   ]
  },
  {
   "cell_type": "code",
   "execution_count": 10,
   "id": "82e78e93",
   "metadata": {},
   "outputs": [
    {
     "name": "stdout",
     "output_type": "stream",
     "text": [
      "<class 'pandas.core.frame.DataFrame'>\n",
      "RangeIndex: 3541 entries, 0 to 3540\n",
      "Data columns (total 4 columns):\n",
      " #   Column     Non-Null Count  Dtype  \n",
      "---  ------     --------------  -----  \n",
      " 0   Route_ID   3541 non-null   object \n",
      " 1   timestamp  3541 non-null   object \n",
      " 2   latitude   3541 non-null   float64\n",
      " 3   longitude  3541 non-null   float64\n",
      "dtypes: float64(2), object(2)\n",
      "memory usage: 110.8+ KB\n"
     ]
    }
   ],
   "source": [
    "route_data.info()"
   ]
  },
  {
   "cell_type": "code",
   "execution_count": 29,
   "id": "6f6055fa",
   "metadata": {},
   "outputs": [],
   "source": [
    "route_data.drop(columns=[\"timestamp\"],inplace=True)"
   ]
  },
  {
   "cell_type": "code",
   "execution_count": 31,
   "id": "a69e5170",
   "metadata": {},
   "outputs": [
    {
     "data": {
      "text/html": [
       "<div>\n",
       "<style scoped>\n",
       "    .dataframe tbody tr th:only-of-type {\n",
       "        vertical-align: middle;\n",
       "    }\n",
       "\n",
       "    .dataframe tbody tr th {\n",
       "        vertical-align: top;\n",
       "    }\n",
       "\n",
       "    .dataframe thead th {\n",
       "        text-align: right;\n",
       "    }\n",
       "</style>\n",
       "<table border=\"1\" class=\"dataframe\">\n",
       "  <thead>\n",
       "    <tr style=\"text-align: right;\">\n",
       "      <th></th>\n",
       "      <th>Route_ID</th>\n",
       "      <th>latitude</th>\n",
       "      <th>longitude</th>\n",
       "      <th>Route_Type</th>\n",
       "      <th>Start_Location</th>\n",
       "      <th>Goal_Location</th>\n",
       "      <th>Date</th>\n",
       "      <th>Time</th>\n",
       "    </tr>\n",
       "  </thead>\n",
       "  <tbody>\n",
       "    <tr>\n",
       "      <th>0</th>\n",
       "      <td>0_Austin_Los Angeles</td>\n",
       "      <td>30.267115</td>\n",
       "      <td>-97.743072</td>\n",
       "      <td>0</td>\n",
       "      <td>Austin</td>\n",
       "      <td>Los Angeles</td>\n",
       "      <td>2024-07-09</td>\n",
       "      <td>04:27:31</td>\n",
       "    </tr>\n",
       "    <tr>\n",
       "      <th>1</th>\n",
       "      <td>0_Austin_Los Angeles</td>\n",
       "      <td>30.274387</td>\n",
       "      <td>-97.761541</td>\n",
       "      <td>0</td>\n",
       "      <td>Austin</td>\n",
       "      <td>Los Angeles</td>\n",
       "      <td>2024-07-09</td>\n",
       "      <td>04:37:35</td>\n",
       "    </tr>\n",
       "    <tr>\n",
       "      <th>2</th>\n",
       "      <td>0_Austin_Los Angeles</td>\n",
       "      <td>30.264452</td>\n",
       "      <td>-97.786738</td>\n",
       "      <td>0</td>\n",
       "      <td>Austin</td>\n",
       "      <td>Los Angeles</td>\n",
       "      <td>2024-07-09</td>\n",
       "      <td>04:47:40</td>\n",
       "    </tr>\n",
       "    <tr>\n",
       "      <th>3</th>\n",
       "      <td>0_Austin_Los Angeles</td>\n",
       "      <td>30.236759</td>\n",
       "      <td>-97.840425</td>\n",
       "      <td>0</td>\n",
       "      <td>Austin</td>\n",
       "      <td>Los Angeles</td>\n",
       "      <td>2024-07-09</td>\n",
       "      <td>04:57:44</td>\n",
       "    </tr>\n",
       "    <tr>\n",
       "      <th>4</th>\n",
       "      <td>0_Austin_Los Angeles</td>\n",
       "      <td>30.232651</td>\n",
       "      <td>-97.876297</td>\n",
       "      <td>0</td>\n",
       "      <td>Austin</td>\n",
       "      <td>Los Angeles</td>\n",
       "      <td>2024-07-09</td>\n",
       "      <td>05:07:49</td>\n",
       "    </tr>\n",
       "  </tbody>\n",
       "</table>\n",
       "</div>"
      ],
      "text/plain": [
       "               Route_ID   latitude  longitude Route_Type Start_Location  \\\n",
       "0  0_Austin_Los Angeles  30.267115 -97.743072          0         Austin   \n",
       "1  0_Austin_Los Angeles  30.274387 -97.761541          0         Austin   \n",
       "2  0_Austin_Los Angeles  30.264452 -97.786738          0         Austin   \n",
       "3  0_Austin_Los Angeles  30.236759 -97.840425          0         Austin   \n",
       "4  0_Austin_Los Angeles  30.232651 -97.876297          0         Austin   \n",
       "\n",
       "  Goal_Location        Date      Time  \n",
       "0   Los Angeles  2024-07-09  04:27:31  \n",
       "1   Los Angeles  2024-07-09  04:37:35  \n",
       "2   Los Angeles  2024-07-09  04:47:40  \n",
       "3   Los Angeles  2024-07-09  04:57:44  \n",
       "4   Los Angeles  2024-07-09  05:07:49  "
      ]
     },
     "execution_count": 31,
     "metadata": {},
     "output_type": "execute_result"
    }
   ],
   "source": [
    "route_data.head(5)"
   ]
  },
  {
   "cell_type": "code",
   "execution_count": 32,
   "id": "06d0cdf1",
   "metadata": {},
   "outputs": [],
   "source": [
    "route_data.to_csv(\"final_known_route_repo.csv\")"
   ]
  },
  {
   "cell_type": "code",
   "execution_count": 4,
   "id": "c814c487",
   "metadata": {},
   "outputs": [],
   "source": [
    "trip_data = pd.read_csv(\"On-going trip data.csv\")"
   ]
  },
  {
   "cell_type": "code",
   "execution_count": 5,
   "id": "78d37629",
   "metadata": {},
   "outputs": [
    {
     "data": {
      "text/html": [
       "<div>\n",
       "<style scoped>\n",
       "    .dataframe tbody tr th:only-of-type {\n",
       "        vertical-align: middle;\n",
       "    }\n",
       "\n",
       "    .dataframe tbody tr th {\n",
       "        vertical-align: top;\n",
       "    }\n",
       "\n",
       "    .dataframe thead th {\n",
       "        text-align: right;\n",
       "    }\n",
       "</style>\n",
       "<table border=\"1\" class=\"dataframe\">\n",
       "  <thead>\n",
       "    <tr style=\"text-align: right;\">\n",
       "      <th></th>\n",
       "      <th>Pallet_ID</th>\n",
       "      <th>timestamp</th>\n",
       "      <th>latitude</th>\n",
       "      <th>longitude</th>\n",
       "    </tr>\n",
       "  </thead>\n",
       "  <tbody>\n",
       "    <tr>\n",
       "      <th>0</th>\n",
       "      <td>Y0623</td>\n",
       "      <td>2024-09-05 08:00:00.000000</td>\n",
       "      <td>41.795567</td>\n",
       "      <td>-87.575332</td>\n",
       "    </tr>\n",
       "    <tr>\n",
       "      <th>1</th>\n",
       "      <td>S21000</td>\n",
       "      <td>2024-09-05 08:10:54.110160</td>\n",
       "      <td>40.584618</td>\n",
       "      <td>-73.845570</td>\n",
       "    </tr>\n",
       "    <tr>\n",
       "      <th>2</th>\n",
       "      <td>A8624</td>\n",
       "      <td>2024-09-05 08:21:07.557000</td>\n",
       "      <td>41.996865</td>\n",
       "      <td>-87.829199</td>\n",
       "    </tr>\n",
       "    <tr>\n",
       "      <th>3</th>\n",
       "      <td>I21001</td>\n",
       "      <td>2024-09-05 08:32:42.330480</td>\n",
       "      <td>40.576574</td>\n",
       "      <td>-74.307722</td>\n",
       "    </tr>\n",
       "    <tr>\n",
       "      <th>4</th>\n",
       "      <td>Q11002</td>\n",
       "      <td>2024-09-05 08:43:36.440640</td>\n",
       "      <td>40.551580</td>\n",
       "      <td>-74.206959</td>\n",
       "    </tr>\n",
       "  </tbody>\n",
       "</table>\n",
       "</div>"
      ],
      "text/plain": [
       "  Pallet_ID                   timestamp   latitude  longitude\n",
       "0     Y0623  2024-09-05 08:00:00.000000  41.795567 -87.575332\n",
       "1    S21000  2024-09-05 08:10:54.110160  40.584618 -73.845570\n",
       "2     A8624  2024-09-05 08:21:07.557000  41.996865 -87.829199\n",
       "3    I21001  2024-09-05 08:32:42.330480  40.576574 -74.307722\n",
       "4    Q11002  2024-09-05 08:43:36.440640  40.551580 -74.206959"
      ]
     },
     "execution_count": 5,
     "metadata": {},
     "output_type": "execute_result"
    }
   ],
   "source": [
    "trip_data.head()"
   ]
  },
  {
   "cell_type": "code",
   "execution_count": 7,
   "id": "bbd0d29d",
   "metadata": {},
   "outputs": [
    {
     "data": {
      "text/plain": [
       "625"
      ]
     },
     "execution_count": 7,
     "metadata": {},
     "output_type": "execute_result"
    }
   ],
   "source": [
    "trip_data[\"Pallet_ID\"].nunique()"
   ]
  },
  {
   "cell_type": "code",
   "execution_count": 8,
   "id": "5db3508f",
   "metadata": {},
   "outputs": [
    {
     "name": "stdout",
     "output_type": "stream",
     "text": [
      "<class 'pandas.core.frame.DataFrame'>\n",
      "RangeIndex: 851 entries, 0 to 850\n",
      "Data columns (total 4 columns):\n",
      " #   Column     Non-Null Count  Dtype  \n",
      "---  ------     --------------  -----  \n",
      " 0   Pallet_ID  851 non-null    object \n",
      " 1   timestamp  851 non-null    object \n",
      " 2   latitude   851 non-null    float64\n",
      " 3   longitude  851 non-null    float64\n",
      "dtypes: float64(2), object(2)\n",
      "memory usage: 26.7+ KB\n"
     ]
    }
   ],
   "source": [
    "trip_data.info()"
   ]
  },
  {
   "cell_type": "code",
   "execution_count": 33,
   "id": "dc1e438b",
   "metadata": {},
   "outputs": [],
   "source": [
    "trip_data['Time'] = pd.to_datetime(trip_data['timestamp']).dt.strftime('%H:%M:%S')"
   ]
  },
  {
   "cell_type": "code",
   "execution_count": 36,
   "id": "965ee8e0",
   "metadata": {},
   "outputs": [],
   "source": [
    "trip_data['Date'] = pd.to_datetime(trip_data['timestamp']).dt.date"
   ]
  },
  {
   "cell_type": "code",
   "execution_count": 37,
   "id": "82ca5287",
   "metadata": {},
   "outputs": [
    {
     "data": {
      "text/html": [
       "<div>\n",
       "<style scoped>\n",
       "    .dataframe tbody tr th:only-of-type {\n",
       "        vertical-align: middle;\n",
       "    }\n",
       "\n",
       "    .dataframe tbody tr th {\n",
       "        vertical-align: top;\n",
       "    }\n",
       "\n",
       "    .dataframe thead th {\n",
       "        text-align: right;\n",
       "    }\n",
       "</style>\n",
       "<table border=\"1\" class=\"dataframe\">\n",
       "  <thead>\n",
       "    <tr style=\"text-align: right;\">\n",
       "      <th></th>\n",
       "      <th>Pallet_ID</th>\n",
       "      <th>timestamp</th>\n",
       "      <th>latitude</th>\n",
       "      <th>longitude</th>\n",
       "      <th>Time</th>\n",
       "      <th>Date</th>\n",
       "    </tr>\n",
       "  </thead>\n",
       "  <tbody>\n",
       "    <tr>\n",
       "      <th>0</th>\n",
       "      <td>Y0623</td>\n",
       "      <td>2024-09-05 08:00:00.000000</td>\n",
       "      <td>41.795567</td>\n",
       "      <td>-87.575332</td>\n",
       "      <td>08:00:00</td>\n",
       "      <td>2024-09-05</td>\n",
       "    </tr>\n",
       "    <tr>\n",
       "      <th>1</th>\n",
       "      <td>S21000</td>\n",
       "      <td>2024-09-05 08:10:54.110160</td>\n",
       "      <td>40.584618</td>\n",
       "      <td>-73.845570</td>\n",
       "      <td>08:10:54</td>\n",
       "      <td>2024-09-05</td>\n",
       "    </tr>\n",
       "    <tr>\n",
       "      <th>2</th>\n",
       "      <td>A8624</td>\n",
       "      <td>2024-09-05 08:21:07.557000</td>\n",
       "      <td>41.996865</td>\n",
       "      <td>-87.829199</td>\n",
       "      <td>08:21:07</td>\n",
       "      <td>2024-09-05</td>\n",
       "    </tr>\n",
       "    <tr>\n",
       "      <th>3</th>\n",
       "      <td>I21001</td>\n",
       "      <td>2024-09-05 08:32:42.330480</td>\n",
       "      <td>40.576574</td>\n",
       "      <td>-74.307722</td>\n",
       "      <td>08:32:42</td>\n",
       "      <td>2024-09-05</td>\n",
       "    </tr>\n",
       "    <tr>\n",
       "      <th>4</th>\n",
       "      <td>Q11002</td>\n",
       "      <td>2024-09-05 08:43:36.440640</td>\n",
       "      <td>40.551580</td>\n",
       "      <td>-74.206959</td>\n",
       "      <td>08:43:36</td>\n",
       "      <td>2024-09-05</td>\n",
       "    </tr>\n",
       "  </tbody>\n",
       "</table>\n",
       "</div>"
      ],
      "text/plain": [
       "  Pallet_ID                   timestamp   latitude  longitude      Time  \\\n",
       "0     Y0623  2024-09-05 08:00:00.000000  41.795567 -87.575332  08:00:00   \n",
       "1    S21000  2024-09-05 08:10:54.110160  40.584618 -73.845570  08:10:54   \n",
       "2     A8624  2024-09-05 08:21:07.557000  41.996865 -87.829199  08:21:07   \n",
       "3    I21001  2024-09-05 08:32:42.330480  40.576574 -74.307722  08:32:42   \n",
       "4    Q11002  2024-09-05 08:43:36.440640  40.551580 -74.206959  08:43:36   \n",
       "\n",
       "         Date  \n",
       "0  2024-09-05  \n",
       "1  2024-09-05  \n",
       "2  2024-09-05  \n",
       "3  2024-09-05  \n",
       "4  2024-09-05  "
      ]
     },
     "execution_count": 37,
     "metadata": {},
     "output_type": "execute_result"
    }
   ],
   "source": [
    "trip_data.head()"
   ]
  },
  {
   "cell_type": "code",
   "execution_count": 38,
   "id": "b55a3811",
   "metadata": {},
   "outputs": [],
   "source": [
    "trip_data.drop(columns=[\"timestamp\"],inplace=True)"
   ]
  },
  {
   "cell_type": "code",
   "execution_count": 39,
   "id": "f8d83cf5",
   "metadata": {},
   "outputs": [
    {
     "data": {
      "text/html": [
       "<div>\n",
       "<style scoped>\n",
       "    .dataframe tbody tr th:only-of-type {\n",
       "        vertical-align: middle;\n",
       "    }\n",
       "\n",
       "    .dataframe tbody tr th {\n",
       "        vertical-align: top;\n",
       "    }\n",
       "\n",
       "    .dataframe thead th {\n",
       "        text-align: right;\n",
       "    }\n",
       "</style>\n",
       "<table border=\"1\" class=\"dataframe\">\n",
       "  <thead>\n",
       "    <tr style=\"text-align: right;\">\n",
       "      <th></th>\n",
       "      <th>Pallet_ID</th>\n",
       "      <th>latitude</th>\n",
       "      <th>longitude</th>\n",
       "      <th>Time</th>\n",
       "      <th>Date</th>\n",
       "    </tr>\n",
       "  </thead>\n",
       "  <tbody>\n",
       "    <tr>\n",
       "      <th>0</th>\n",
       "      <td>Y0623</td>\n",
       "      <td>41.795567</td>\n",
       "      <td>-87.575332</td>\n",
       "      <td>08:00:00</td>\n",
       "      <td>2024-09-05</td>\n",
       "    </tr>\n",
       "    <tr>\n",
       "      <th>1</th>\n",
       "      <td>S21000</td>\n",
       "      <td>40.584618</td>\n",
       "      <td>-73.845570</td>\n",
       "      <td>08:10:54</td>\n",
       "      <td>2024-09-05</td>\n",
       "    </tr>\n",
       "    <tr>\n",
       "      <th>2</th>\n",
       "      <td>A8624</td>\n",
       "      <td>41.996865</td>\n",
       "      <td>-87.829199</td>\n",
       "      <td>08:21:07</td>\n",
       "      <td>2024-09-05</td>\n",
       "    </tr>\n",
       "    <tr>\n",
       "      <th>3</th>\n",
       "      <td>I21001</td>\n",
       "      <td>40.576574</td>\n",
       "      <td>-74.307722</td>\n",
       "      <td>08:32:42</td>\n",
       "      <td>2024-09-05</td>\n",
       "    </tr>\n",
       "    <tr>\n",
       "      <th>4</th>\n",
       "      <td>Q11002</td>\n",
       "      <td>40.551580</td>\n",
       "      <td>-74.206959</td>\n",
       "      <td>08:43:36</td>\n",
       "      <td>2024-09-05</td>\n",
       "    </tr>\n",
       "  </tbody>\n",
       "</table>\n",
       "</div>"
      ],
      "text/plain": [
       "  Pallet_ID   latitude  longitude      Time        Date\n",
       "0     Y0623  41.795567 -87.575332  08:00:00  2024-09-05\n",
       "1    S21000  40.584618 -73.845570  08:10:54  2024-09-05\n",
       "2     A8624  41.996865 -87.829199  08:21:07  2024-09-05\n",
       "3    I21001  40.576574 -74.307722  08:32:42  2024-09-05\n",
       "4    Q11002  40.551580 -74.206959  08:43:36  2024-09-05"
      ]
     },
     "execution_count": 39,
     "metadata": {},
     "output_type": "execute_result"
    }
   ],
   "source": [
    "trip_data.head(5)"
   ]
  },
  {
   "cell_type": "code",
   "execution_count": 40,
   "id": "1763cf99",
   "metadata": {},
   "outputs": [],
   "source": [
    "trip_data.to_csv(\"final_on_going_trip_data.csv\")"
   ]
  },
  {
   "cell_type": "code",
   "execution_count": 44,
   "id": "407828bc",
   "metadata": {},
   "outputs": [
    {
     "data": {
      "text/plain": [
       "array(['Austin', 'Chicago', 'New York City', 'Portland'], dtype=object)"
      ]
     },
     "execution_count": 44,
     "metadata": {},
     "output_type": "execute_result"
    }
   ],
   "source": [
    "route_data[\"Start_Location\"].unique()"
   ]
  },
  {
   "cell_type": "code",
   "execution_count": 45,
   "id": "2adfb2e0",
   "metadata": {},
   "outputs": [
    {
     "data": {
      "text/plain": [
       "array(['Los Angeles', 'Houston', 'Philadelphia', 'San Diego', 'San Jose',\n",
       "       'Jacksonville', 'Columbus', 'Charlotte', 'Seattle',\n",
       "       'Washington, D.C.', 'Atlanta'], dtype=object)"
      ]
     },
     "execution_count": 45,
     "metadata": {},
     "output_type": "execute_result"
    }
   ],
   "source": [
    "route_data[\"Goal_Location\"].unique()"
   ]
  },
  {
   "cell_type": "code",
   "execution_count": 46,
   "id": "6f238fc1",
   "metadata": {},
   "outputs": [
    {
     "data": {
      "text/plain": [
       "Index(['Route_ID', 'latitude', 'longitude', 'Route_Type', 'Start_Location',\n",
       "       'Goal_Location', 'Date', 'Time'],\n",
       "      dtype='object')"
      ]
     },
     "execution_count": 46,
     "metadata": {},
     "output_type": "execute_result"
    }
   ],
   "source": [
    "route_data.columns"
   ]
  },
  {
   "cell_type": "code",
   "execution_count": 47,
   "id": "17f4681c",
   "metadata": {},
   "outputs": [
    {
     "data": {
      "text/plain": [
       "Index(['Pallet_ID', 'latitude', 'longitude', 'Time', 'Date'], dtype='object')"
      ]
     },
     "execution_count": 47,
     "metadata": {},
     "output_type": "execute_result"
    }
   ],
   "source": [
    "trip_data.columns"
   ]
  },
  {
   "cell_type": "code",
   "execution_count": null,
   "id": "5e5ae86c",
   "metadata": {},
   "outputs": [],
   "source": [
    "--"
   ]
  }
 ],
 "metadata": {
  "kernelspec": {
   "display_name": "Python 3 (ipykernel)",
   "language": "python",
   "name": "python3"
  },
  "language_info": {
   "codemirror_mode": {
    "name": "ipython",
    "version": 3
   },
   "file_extension": ".py",
   "mimetype": "text/x-python",
   "name": "python",
   "nbconvert_exporter": "python",
   "pygments_lexer": "ipython3",
   "version": "3.11.4"
  }
 },
 "nbformat": 4,
 "nbformat_minor": 5
}
